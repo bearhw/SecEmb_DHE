{
 "cells": [
  {
   "cell_type": "markdown",
   "id": "5bd6af99",
   "metadata": {},
   "source": [
    "## LLM Inference Experiments\n",
    "\n"
   ]
  },
  {
   "cell_type": "code",
   "execution_count": 22,
   "id": "digital-front",
   "metadata": {},
   "outputs": [],
   "source": [
    "import matplotlib.pyplot as plt\n",
    "import pandas as pd\n",
    "import numpy as np"
   ]
  },
  {
   "cell_type": "code",
   "execution_count": 23,
   "id": "83f828a0",
   "metadata": {},
   "outputs": [],
   "source": [
    "dirName = '../RESULTS_OUTPUT/'\n"
   ]
  },
  {
   "cell_type": "code",
   "execution_count": 24,
   "id": "70c81c5c",
   "metadata": {},
   "outputs": [],
   "source": [
    "threads = 16\n",
    "batch = 1"
   ]
  },
  {
   "cell_type": "code",
   "execution_count": null,
   "id": "5c12040a",
   "metadata": {},
   "outputs": [],
   "source": [
    "emb_type = \"index\"\n",
    "df_index = pd.read_csv(f\"{dirName}/output_inference_{emb_type}_threads{threads}_batch_{batch}.csv\") \n",
    "df_index = df_index.mean()\n",
    "df_index[[\"PrefillTime\",\"PerTokenDecodeTime\"]]\n",
    " \n"
   ]
  },
  {
   "cell_type": "code",
   "execution_count": null,
   "id": "672bf281",
   "metadata": {},
   "outputs": [],
   "source": [
    "emb_type = \"dhe\"\n",
    "df_dhe = pd.read_csv(f\"{dirName}/output_inference_{emb_type}_threads{threads}_batch_{batch}.csv\") \n",
    "df_dhe = df_dhe.mean()\n",
    "df_dhe[[\"PrefillTime\",\"PerTokenDecodeTime\"]]"
   ]
  },
  {
   "cell_type": "code",
   "execution_count": null,
   "id": "f74daafe",
   "metadata": {},
   "outputs": [],
   "source": [
    "emb_type = \"ls\"\n",
    "df_ls = pd.read_csv(f\"{dirName}/output_inference_{emb_type}_threads{threads}_batch_{batch}.csv\") \n",
    "df_ls = df_ls.mean()\n",
    "df_ls[[\"PrefillTime\",\"PerTokenDecodeTime\"]]"
   ]
  },
  {
   "cell_type": "code",
   "execution_count": null,
   "id": "7da07863",
   "metadata": {},
   "outputs": [],
   "source": [
    "emb_type = \"ztpo\"\n",
    "df_ztpo = pd.read_csv(f\"{dirName}/output_inference_{emb_type}_threads{threads}_batch_{batch}.csv\") \n",
    "df_ztpo = df_ztpo.mean()\n",
    "df_ztpo[[\"PrefillTime\",\"PerTokenDecodeTime\"]]"
   ]
  },
  {
   "cell_type": "code",
   "execution_count": null,
   "id": "ef5f5de6",
   "metadata": {},
   "outputs": [],
   "source": [
    "emb_type = \"ztco\"\n",
    "df_ztco = pd.read_csv(f\"{dirName}/output_inference_{emb_type}_threads{threads}_batch_{batch}.csv\") \n",
    "df_ztco = df_ztco.mean()\n",
    "df_ztco[[\"PrefillTime\",\"PerTokenDecodeTime\"]]"
   ]
  }
 ],
 "metadata": {
  "kernelspec": {
   "display_name": "pyth310",
   "language": "python",
   "name": "python3"
  },
  "language_info": {
   "codemirror_mode": {
    "name": "ipython",
    "version": 3
   },
   "file_extension": ".py",
   "mimetype": "text/x-python",
   "name": "python",
   "nbconvert_exporter": "python",
   "pygments_lexer": "ipython3",
   "version": "3.10.15"
  }
 },
 "nbformat": 4,
 "nbformat_minor": 5
}
