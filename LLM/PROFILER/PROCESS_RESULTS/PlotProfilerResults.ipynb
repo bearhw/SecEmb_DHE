{
 "cells": [
  {
   "cell_type": "markdown",
   "id": "5bd6af99",
   "metadata": {},
   "source": [
    "## LLM Profiler Experiments\n",
    "\n"
   ]
  },
  {
   "cell_type": "code",
   "execution_count": 1,
   "id": "digital-front",
   "metadata": {},
   "outputs": [],
   "source": [
    "import matplotlib.pyplot as plt\n",
    "import pandas as pd\n",
    "import numpy as np"
   ]
  },
  {
   "cell_type": "markdown",
   "id": "d7265543",
   "metadata": {},
   "source": [
    "### Vary Table Sizes"
   ]
  },
  {
   "cell_type": "code",
   "execution_count": 2,
   "metadata": {},
   "outputs": [],
   "source": [
    "tableSizes = ['50257x768', '50257x1024', '50257x1536', '50257x2048', '50257x3072', '50257x4096', '50257x5120', '50257x8192']  \n"
   ]
  },
  {
   "cell_type": "code",
   "execution_count": 3,
   "id": "1ac3250b",
   "metadata": {},
   "outputs": [],
   "source": [
    "threads = [16]"
   ]
  },
  {
   "cell_type": "code",
   "execution_count": 4,
   "id": "8877a4e4",
   "metadata": {},
   "outputs": [],
   "source": [
    "dirName1 = \"../RESULTS_OUTPUT\"\n"
   ]
  },
  {
   "cell_type": "code",
   "execution_count": null,
   "id": "c1fd5208",
   "metadata": {},
   "outputs": [],
   "source": [
    "## Non secure\n",
    " \n",
    "df_dlrm = pd.DataFrame()\n",
    "for t in threads:\n",
    "    for ts in tableSizes:\n",
    "        df = pd.read_csv(f'{dirName1}/output_index_'+ts+'_threads_'+str(t)+'.csv') \n",
    "        df_dlrm = pd.concat([df_dlrm,df]) \n",
    "df_dlrm_orig = df_dlrm.copy()\n",
    "\n",
    "df_tmp = df_dlrm\n",
    "df_tmp"
   ]
  },
  {
   "cell_type": "code",
   "execution_count": null,
   "id": "7e2cd5a1",
   "metadata": {},
   "outputs": [],
   "source": [
    "## LS\n",
    " \n",
    "df_ls = pd.DataFrame()\n",
    "for t in threads:\n",
    "    for ts in tableSizes:\n",
    "        df = pd.read_csv(f'{dirName1}/output_ls_'+ts+'_threads_'+str(t)+'.csv') \n",
    "        df_ls = pd.concat([df_ls,df]) \n",
    "df_ls_orig = df_ls.copy()\n",
    "\n",
    "df_tmp = df_ls\n",
    "df_tmp"
   ]
  },
  {
   "cell_type": "code",
   "execution_count": null,
   "metadata": {},
   "outputs": [],
   "source": [
    "## ZT P\n",
    "\n",
    "df_ztpo = pd.DataFrame()\n",
    "for t in [1]:\n",
    "    for ts in tableSizes:\n",
    "        df = pd.read_csv(f'{dirName1}/output_ztpo_'+ts+'_threads_'+str(t)+'.csv') \n",
    "        df_ztpo = pd.concat([df_ztpo,df])   \n",
    "df_ztpo_orig = df_ztpo.copy()\n",
    "\n",
    "df_tmp = df_ztpo_orig\n",
    "df_tmp"
   ]
  },
  {
   "cell_type": "code",
   "execution_count": 8,
   "metadata": {},
   "outputs": [],
   "source": [
    "## ZT C\n",
    "\n",
    "df_ztco = pd.DataFrame()\n",
    "for t in [1]:\n",
    "    for ts in tableSizes:\n",
    "        df = pd.read_csv(f'{dirName1}/output_ztco_'+ts+'_threads_'+str(t)+'.csv') \n",
    "        df_ztco = pd.concat([df_ztco,df])   \n",
    "        \n",
    "df_ztco_orig = df_ztco.copy()"
   ]
  },
  {
   "cell_type": "code",
   "execution_count": null,
   "metadata": {},
   "outputs": [],
   "source": [
    "## DHE\n",
    "\n",
    "df_dhe = pd.DataFrame()\n",
    "for t in threads:\n",
    "    for ts in tableSizes:\n",
    "        df = pd.read_csv(f'{dirName1}/output_dhe_'+ts+'_threads_'+str(t)+'.csv') \n",
    "        df_dhe = pd.concat([df_dhe,df]) \n",
    "df_dhe_orig = df_dhe.copy()\n",
    "\n",
    "df_tmp = df_dhe\n",
    "df_tmp"
   ]
  },
  {
   "cell_type": "code",
   "execution_count": null,
   "id": "01cf8bee",
   "metadata": {},
   "outputs": [],
   "source": []
  },
  {
   "cell_type": "code",
   "execution_count": null,
   "id": "0175545a",
   "metadata": {},
   "outputs": [],
   "source": [
    " \n",
    "for b in [1,8,256,2048]:\n",
    "# for b in [16,4096]:\n",
    "\n",
    "   \n",
    "   for th_ in [16]:\n",
    "\n",
    "        print(b,th_)\n",
    "\n",
    "        df_dhe = df_dhe_orig.copy()\n",
    "        df_dhe = df_dhe.query('BatchEffective == '+str(b))         \n",
    "\n",
    "        df_dlrm = df_dlrm_orig.copy()\n",
    "        df_dlrm = df_dlrm.query('BatchEffective == '+str(b))\n",
    "\n",
    "        df_ls = df_ls_orig.copy()\n",
    "        df_ls = df_ls.query('BatchEffective == '+str(b))\n",
    "\n",
    "        df_ztpo = df_ztpo_orig.copy()\n",
    "        df_ztpo = df_ztpo.query('BatchEffective == '+str(b))\n",
    "\n",
    "        df_ztco = df_ztco_orig.copy()\n",
    "        df_ztco = df_ztco.query('BatchEffective == '+str(b))\n",
    "\n",
    "\n",
    "\n",
    "\n",
    "        fig1, ax1 = plt.subplots(1, 1, figsize=(2.5,4)) # \n",
    "\n",
    "        \n",
    "        ax1.plot(df_dlrm[\"EmbSize\"], df_dlrm[\"TimeEmb\"], marker='.',mew=2, ms=7, label='Table Lookup', linewidth=2, color='gray');\n",
    "        ax1.plot(df_dhe[\"EmbSize\"], df_dhe[\"TimeEmb\"], marker='.', mew=2, ms=7, label='DHE', color='red'); # 2x-3ifc\n",
    "\n",
    "        ax1.plot(df_ls[\"EmbSize\"], df_ls[\"TimeEmb\"], marker='.',mew=2, ms=7, label='Linear Scan', linewidth=2, color='#1f77b4');\n",
    "        ax1.plot(df_ztpo[\"EmbSize\"], df_ztpo[\"TimeEmb\"], marker='.',mew=2, ms=7, label='Path ORAM', linewidth=2, color='#ff7f0e'); \n",
    "        ax1.plot(df_ztco[\"EmbSize\"], df_ztco[\"TimeEmb\"], marker='.',mew=2, ms=7, label='Circuit ORAM', linewidth=2, color='#2ca02c'); \n",
    "\n",
    "\n",
    "\n",
    "        ax1.set_xlabel(\"Embedding Dimension\");        \n",
    "        ax1.set_ylabel(\"Time (ms)\");\n",
    "        \n",
    "        ax1.set_title(\"Lat for B=\"+str(b));\n",
    "\n",
    "        ax1.set_yscale('log');\n",
    "\n",
    "            \n",
    "        ax1.grid(axis = 'y')\n",
    "\n",
    "        ax1.legend(loc='center left', bbox_to_anchor=(1, 0.5))\n",
    "\n",
    "        ticks = [768,2048,2048*2,2048*3,2048*4]\n",
    "        ax1.set_xticks(ticks, ticks) \n"
   ]
  }
 ],
 "metadata": {
  "kernelspec": {
   "display_name": "pyth310",
   "language": "python",
   "name": "python3"
  },
  "language_info": {
   "codemirror_mode": {
    "name": "ipython",
    "version": 3
   },
   "file_extension": ".py",
   "mimetype": "text/x-python",
   "name": "python",
   "nbconvert_exporter": "python",
   "pygments_lexer": "ipython3",
   "version": "3.10.15"
  }
 },
 "nbformat": 4,
 "nbformat_minor": 5
}
