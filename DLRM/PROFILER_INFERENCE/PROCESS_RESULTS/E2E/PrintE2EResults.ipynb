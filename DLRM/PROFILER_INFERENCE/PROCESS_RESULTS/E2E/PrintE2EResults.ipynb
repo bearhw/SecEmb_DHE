{
 "cells": [
  {
   "cell_type": "markdown",
   "id": "5bd6af99",
   "metadata": {},
   "source": [
    "## DLRM End-to-End Experiments\n",
    "\n"
   ]
  },
  {
   "cell_type": "code",
   "execution_count": 7,
   "id": "digital-front",
   "metadata": {},
   "outputs": [],
   "source": [
    "import matplotlib.pyplot as plt\n",
    "import pandas as pd\n",
    "import numpy as np\n"
   ]
  },
  {
   "cell_type": "code",
   "execution_count": 8,
   "id": "80f11e6e",
   "metadata": {},
   "outputs": [],
   "source": [
    "# chosen config\n",
    " \n",
    "tc = 26\n",
    "t = 1\n",
    "b = 32\n",
    "th = 1\n",
    "p = 1"
   ]
  },
  {
   "cell_type": "code",
   "execution_count": null,
   "id": "b859bd4c",
   "metadata": {},
   "outputs": [],
   "source": [
    "### Index non-secure lookup\n",
    "\n",
    "\n",
    "df = pd.read_csv('RESULTS_OUTPUT_index/ParsedCSVs/output_dlrm_kaggle__threads_'+str(th)+'.csv')\n",
    "df = pd.read_csv('RESULTS_OUTPUT_index/ParsedCSVs/output_dlrm_tera__threads_'+str(th)+'.csv')\n",
    "\n",
    "df = df.query('TableCount == '+str(tc))\n",
    "df = df.query('BatchSize == '+str(b))\n",
    "df = df.query('Threads == '+str(th))\n",
    "df = df.query('NumLookups == '+str(p))\n",
    "\n",
    "print(df[\"TimeTotal\"].item(), 'ms')"
   ]
  },
  {
   "cell_type": "code",
   "execution_count": null,
   "id": "62cc9f44",
   "metadata": {},
   "outputs": [],
   "source": [
    "### Linear scan\n",
    "\n",
    "\n",
    "df = pd.read_csv('RESULTS_OUTPUT_ext/ParsedCSVs/output_dlrmExt_ls_kaggle__threads_'+str(th)+'.csv')\n",
    "df = pd.read_csv('RESULTS_OUTPUT_ext/ParsedCSVs/output_dlrmExt_ls_tera__threads_'+str(th)+'.csv')\n",
    "\n",
    "df = df.query('TableCount == '+str(tc))\n",
    "df = df.query('BatchSize == '+str(b))\n",
    "df = df.query('Threads == '+str(th))\n",
    "df = df.query('NumLookups == '+str(p))\n",
    "\n",
    "print(df[\"TimeTotal\"].item(), 'ms')"
   ]
  },
  {
   "cell_type": "code",
   "execution_count": null,
   "id": "42e5a2ef",
   "metadata": {},
   "outputs": [],
   "source": [
    "### ZT Path\n",
    "\n",
    "\n",
    "df = pd.read_csv('RESULTS_OUTPUT_ext/ParsedCSVs/output_dlrmExt_ztpo_kaggle__threads_'+str(th)+'.csv')\n",
    "df = pd.read_csv('RESULTS_OUTPUT_ext/ParsedCSVs/output_dlrmExt_ztpo_tera__threads_'+str(th)+'.csv')\n",
    "\n",
    "df = df.query('TableCount == '+str(tc))\n",
    "df = df.query('BatchSize == '+str(b))\n",
    "df = df.query('Threads == '+str(th))\n",
    "df = df.query('NumLookups == '+str(p))\n",
    "\n",
    "print(df[\"TimeTotal\"].item(), 'ms')"
   ]
  },
  {
   "cell_type": "code",
   "execution_count": null,
   "id": "e3ce8bb7",
   "metadata": {},
   "outputs": [],
   "source": [
    "### ZT Circuit\n",
    "\n",
    "\n",
    "df = pd.read_csv('RESULTS_OUTPUT_ext/ParsedCSVs/output_dlrmExt_ztco_kaggle__threads_'+str(th)+'.csv')\n",
    "df = pd.read_csv('RESULTS_OUTPUT_ext/ParsedCSVs/output_dlrmExt_ztco_tera__threads_'+str(th)+'.csv')\n",
    "\n",
    "df = df.query('TableCount == '+str(tc))\n",
    "df = df.query('BatchSize == '+str(b))\n",
    "df = df.query('Threads == '+str(th))\n",
    "df = df.query('NumLookups == '+str(p))\n",
    "\n",
    "print(df[\"TimeTotal\"].item(), 'ms')"
   ]
  },
  {
   "cell_type": "code",
   "execution_count": null,
   "id": "360fc964",
   "metadata": {},
   "outputs": [],
   "source": [
    "### DHE Uniform and Varied\n",
    "\n",
    "\n",
    "df = pd.read_csv('RESULTS_OUTPUT_dhe/ParsedCSVs/output_dhe_kaggle__threads_'+str(th)+'.csv')\n",
    "# df = pd.read_csv('RESULTS_OUTPUT_dhe/ParsedCSVs/output_dhe_tera__threads_'+str(th)+'.csv')\n",
    "# df = pd.read_csv('RESULTS_OUTPUT_dhe/ParsedCSVs/output_dhe_varying_kaggle__threads_'+str(th)+'.csv')\n",
    "# df = pd.read_csv('RESULTS_OUTPUT_dhe/ParsedCSVs/output_dhe_varying_tera__threads_'+str(th)+'.csv')\n",
    "\n",
    "df = df.query('TableCount == '+str(tc))\n",
    "df = df.query('BatchSize == '+str(b))\n",
    "df = df.query('Threads == '+str(th))\n",
    "df = df.query('NumLookups == '+str(p))\n",
    "\n",
    "print(df[\"TimeTotal\"].item(), 'ms')"
   ]
  },
  {
   "cell_type": "code",
   "execution_count": null,
   "id": "b5730448",
   "metadata": {},
   "outputs": [],
   "source": [
    "### Hybrid\n",
    "\n",
    "\n",
    "### From thresholds csv #\n",
    "#           both dhe unif varied thresholds\n",
    "# e16\n",
    "### 1,32,1,1,13411,7612\n",
    "# e64\n",
    "### 1,32,1,1,3304,1881\n",
    "\n",
    "#### for 1Thr 32B\n",
    "# K 14991,10000\n",
    "# T  5000,2000\n",
    "\n",
    "### sweep values                   \n",
    "###  2000 3000 5000 5670 10000     14991 93144 120000      150000               # kaggle e16                              \n",
    "###  120 500 1000 2000   5000   7111 7377 11155 12419 17216 20133 28000         # tera e64   \n",
    "\n",
    "\n",
    "\n",
    "# KAGGLE tableSizes_list = ['3-4-10-15-18-24-27-105-305-583-633-1460-2173-3194-5652-5683-12517-14992-93145-142572-286181-2202608-5461306-7046547-8351593-10131227']\n",
    "# TERA   tableSizes_list = ['3-4-10-14-36-61-101-122-970-1442-2208-7112-7378-11156-12420-17217-20134-36084-313829-415421-1333352-7267859-9758201-9946608-9980333-9994222']\n",
    "    \n",
    "    \n",
    "    \n",
    "\n",
    "### more thresholds\n",
    "###       U V\n",
    "\n",
    "#### for 1Thr 64B\n",
    "# K 10000,10000\n",
    "# T  5000,2000\n",
    "\n",
    "#### 1Thr 128B\n",
    "# K 10000,5000\n",
    "# T  5000,2000    \n",
    "    \n",
    "#################################################################################################\n",
    "\n",
    "\n",
    "\n",
    "\n",
    "### uniform DHE / LS\n",
    "\n",
    "# threshold =  14991\n",
    "# df = pd.read_csv('RESULTS_OUTPUT_hybrid/ParsedCSVs/output_kaggle_hybrid_threshold'+str(threshold)+'_threads_'+str(th)+'.csv')\n",
    "\n",
    "# threshold = 5000\n",
    "# df = pd.read_csv('RESULTS_OUTPUT_hybrid/ParsedCSVs/output_tera_hybrid_threshold'+str(threshold)+'_threads_'+str(th)+'.csv')\n",
    "\n",
    "\n",
    "\n",
    "### varied DHE / LS\n",
    "\n",
    "# threshold = 10000\n",
    "# df = pd.read_csv('RESULTS_OUTPUT_hybrid/ParsedCSVs/output_kaggle_hybrid_varying_threshold'+str(threshold)+'_threads_'+str(th)+'.csv')\n",
    "\n",
    "threshold = 2000\n",
    "df = pd.read_csv('RESULTS_OUTPUT_hybrid/ParsedCSVs/output_tera_hybrid_varying_threshold'+str(threshold)+'_threads_'+str(th)+'.csv')\n",
    "\n",
    "\n",
    "\n",
    "\n",
    "\n",
    "df = df.query('TableCount == '+str(tc))\n",
    "df = df.query('BatchSize == '+str(b))\n",
    "df = df.query('Threads == '+str(th))\n",
    "df = df.query('NumLookups == '+str(p))\n",
    "\n",
    "print(df[\"TimeTotal\"].item(), 'ms')"
   ]
  },
  {
   "cell_type": "code",
   "execution_count": 12,
   "id": "7f4ef595",
   "metadata": {},
   "outputs": [],
   "source": []
  }
 ],
 "metadata": {
  "kernelspec": {
   "display_name": "pyth310",
   "language": "python",
   "name": "python3"
  },
  "language_info": {
   "codemirror_mode": {
    "name": "ipython",
    "version": 3
   },
   "file_extension": ".py",
   "mimetype": "text/x-python",
   "name": "python",
   "nbconvert_exporter": "python",
   "pygments_lexer": "ipython3",
   "version": "3.10.15"
  }
 },
 "nbformat": 4,
 "nbformat_minor": 5
}
